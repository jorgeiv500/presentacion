{
  "cells": [
    {
      "cell_type": "markdown",
      "source": [
        "# OVA 1 - Introducción al análisis exploratorio de datos"
      ],
      "metadata": {
        "id": "CbCvDACdfsaO"
      },
      "id": "CbCvDACdfsaO"
    },
    {
      "cell_type": "markdown",
      "source": [
        "<section data-transition=\"slide\" data-background=\"#003865\">\n",
        "  <h2>Objetivos</h2>\n",
        "  <ul>\n",
        "    <li>Comprender conceptos básicos de EDA</li>\n",
        "    <li>Aprender estadística descriptiva</li>\n",
        "    <li>Visualizar y resumir datos</li>\n",
        "    <li>Realizar EDA en Python</li>\n",
        "  </ul>\n",
        "</section>"
      ],
      "metadata": {
        "noteable": {
          "cell_type": "markdown"
        },
        "id": "efac87d3-1e04-4e35-b588-79b85ee858e4"
      },
      "id": "efac87d3-1e04-4e35-b588-79b85ee858e4"
    },
    {
      "cell_type": "markdown",
      "source": [
        "## Introducción\n",
        "\n",
        "En esta sección, introduciremos el concepto de Análisis Exploratorio de Datos (EDA) y discutiremos su importancia en el análisis de datos. EDA es un enfoque para analizar conjuntos de datos para resumir sus características principales, a menudo con métodos visuales. Un modelo estadístico puede o no ser utilizado, pero principalmente EDA es para ver lo que los datos pueden decirnos más allá de la modelación formal o las pruebas de hipótesis.\n",
        "\n",
        "### Subsecciones\n",
        "- Definición de EDA\n",
        "- Importancia de EDA\n",
        "- Pasos involucrados en EDA\n",
        "- Herramientas utilizadas para EDA"
      ],
      "metadata": {
        "noteable": {
          "cell_type": "markdown"
        },
        "id": "7618cfed-985f-4f2d-83c7-72a4cdd51ace"
      },
      "id": "7618cfed-985f-4f2d-83c7-72a4cdd51ace"
    },
    {
      "cell_type": "markdown",
      "source": [
        "## Conceptos Básicos\n",
        "\n",
        "Antes de sumergirnos en EDA, es esencial familiarizarse con algunos conceptos básicos y terminologías que se utilizan comúnmente en el análisis de datos. En esta sección, discutiremos varios términos y definiciones clave que nos encontraríamos durante EDA.\n",
        "\n",
        "### Subsecciones\n",
        "- Variables y tipos de variables\n",
        "- Población y muestra\n",
        "- Datos faltantes\n",
        "- Outliers\n",
        "- Distribuciones"
      ],
      "metadata": {
        "noteable": {
          "cell_type": "markdown"
        },
        "id": "652eb053-d6bc-41b1-b493-64da902b29dd"
      },
      "id": "652eb053-d6bc-41b1-b493-64da902b29dd"
    },
    {
      "cell_type": "markdown",
      "source": [
        "## Estadística Descriptiva\n",
        "\n",
        "La estadística descriptiva implica resumir y organizar los datos de modo que se puedan describir las características principales de un conjunto de datos. En esta sección, aprenderemos sobre varias medidas estadísticas y cómo calcularlas.\n",
        "\n",
        "### Subsecciones\n",
        "- Medidas de tendencia central (media, mediana, moda)\n",
        "- Medidas de dispersión (rango, varianza, desviación estándar)\n",
        "- Medidas de forma (asimetría, curtosis)"
      ],
      "metadata": {
        "noteable": {
          "cell_type": "markdown"
        },
        "id": "f7d0a0f2-ead6-4de9-8cc5-160738d87485"
      },
      "id": "f7d0a0f2-ead6-4de9-8cc5-160738d87485"
    },
    {
      "cell_type": "markdown",
      "source": [
        "## Visualización de Datos\n",
        "\n",
        "La visualización de datos es una parte crucial de EDA. Nos permite entender los datos a un vistazo y nos puede ayudar a identificar patrones, tendencias y outliers. En esta sección, exploraremos varias técnicas de visualización de datos y cómo implementarlas usando Python.\n",
        "\n",
        "### Subsecciones\n",
        "- Histogramas\n",
        "- Diagramas de dispersión\n",
        "- Box plots\n",
        "- Gráficos de barras y de líneas"
      ],
      "metadata": {
        "noteable": {
          "cell_type": "markdown"
        },
        "id": "bd6799b6-3e61-4436-acce-02942559510a"
      },
      "id": "bd6799b6-3e61-4436-acce-02942559510a"
    },
    {
      "cell_type": "markdown",
      "source": [
        "## EDA en Python\n",
        "\n",
        "En esta sección, realizaremos un EDA completo utilizando Python. Utilizaremos bibliotecas populares como pandas para manipulación de datos, y matplotlib y seaborn para visualización de datos. A través de ejemplos prácticos, demostraremos cómo llevar a cabo EDA de principio a fin.\n",
        "\n",
        "### Subsecciones\n",
        "- Configuración del entorno de Python\n",
        "- Importación y exploración inicial de datos\n",
        "- Limpieza de datos\n",
        "- Análisis univariante\n",
        "- Análisis bivariante\n",
        "- Análisis multivariante"
      ],
      "metadata": {
        "noteable": {
          "cell_type": "markdown"
        },
        "id": "4597173c-7ede-4e11-820b-dbeae426b7e9"
      },
      "id": "4597173c-7ede-4e11-820b-dbeae426b7e9"
    },
    {
      "cell_type": "markdown",
      "source": [
        "## Conclusión\n",
        "\n",
        "En la conclusión, resumiremos los puntos clave que hemos aprendido a lo largo de este cuaderno. También discutiremos las implicaciones prácticas de EDA y cómo puede beneficiar a los analistas y científicos de datos en su trabajo diario.\n",
        "\n",
        "### Subsecciones\n",
        "- Resumen de lo aprendido\n",
        "- Implicaciones prácticas de EDA\n",
        "- Pasos futuros en EDA"
      ],
      "metadata": {
        "noteable": {
          "cell_type": "markdown"
        },
        "id": "3f94d4cb-e9fd-42cc-bd56-ab659ad5ad0a"
      },
      "id": "3f94d4cb-e9fd-42cc-bd56-ab659ad5ad0a"
    },
    {
      "cell_type": "markdown",
      "source": [
        "## Referencias\n",
        "\n",
        "En esta sección, citaremos todas las referencias y recursos externos que hemos utilizado para crear este cuaderno. Es una buena práctica citar todas las fuentes para dar crédito a los autores originales.\n",
        "\n",
        "### Subsecciones\n",
        "- Libros\n",
        "- Artículos\n",
        "- Sitios web"
      ],
      "metadata": {
        "noteable": {
          "cell_type": "markdown"
        },
        "id": "6a3fb6d0-1be2-44e1-8f4a-c2d6f9ff6b92"
      },
      "id": "6a3fb6d0-1be2-44e1-8f4a-c2d6f9ff6b92"
    },
    {
      "cell_type": "markdown",
      "source": [
        "### Definición de EDA\n",
        "\n",
        "El **Análisis Exploratorio de Datos (EDA)** es un enfoque estadístico que tiene como objetivo explorar y resumir conjuntos de datos para entender sus características principales, a menudo visualmente. Este enfoque se utiliza para entender mejor los datos y presentarlos de una forma más fácil de interpretar, facilitando así la toma de decisiones y la predicción de fenómenos.\n",
        "\n",
        "### Importancia de EDA\n",
        "\n",
        "El EDA es una etapa crucial en el análisis de datos por varias razones:\n",
        "\n",
        "- **Identificación de patrones y relaciones:** A través del EDA, podemos identificar los patrones y relaciones que existen entre las variables en nuestros datos.\n",
        "- **Detección de errores:** Permite detectar y corregir errores y anomalías en los datos.\n",
        "- **Desarrollo de hipótesis:** Facilita el desarrollo de hipótesis adecuadas para el modelado estadístico.\n",
        "- **Soporte para la toma de decisiones:** Ayuda a tomar decisiones informadas basadas en los insights obtenidos del análisis de los datos.\n",
        "\n",
        "### Pasos involucrados en EDA\n",
        "\n",
        "El proceso de EDA generalmente involucra los siguientes pasos:\n",
        "\n",
        "- **Recolección de datos:** Obtención de los datos necesarios para el análisis.\n",
        "- **Limpieza de datos:** Eliminación de inconsistencias y tratamiento de valores faltantes en el conjunto de datos.\n",
        "- **Análisis univariante:** Análisis de una sola variable para entender su distribución y características.\n",
        "- **Análisis bivariante:** Análisis de dos variables para identificar cualquier relación entre ellas.\n",
        "- **Análisis multivariante:** Análisis de tres o más variables para entender las relaciones complejas entre ellas.\n",
        "- **Visualización de datos:** Creación de gráficos y visualizaciones para entender mejor los datos.\n",
        "\n",
        "### Herramientas utilizadas para EDA\n",
        "\n",
        "Existen varias herramientas y lenguajes de programación que se pueden utilizar para realizar EDA, incluyendo:\n",
        "\n",
        "- **Python:** Un lenguaje de programación popular que ofrece bibliotecas como Pandas, Matplotlib y Seaborn para facilitar el EDA.\n",
        "- **R:** Un lenguaje de programación y software libre utilizado para análisis estadístico y gráficos.\n",
        "- **Tableau:** Una herramienta de visualización de datos que permite crear dashboards interactivos.\n",
        "- **Power BI:** Una herramienta de business intelligence que permite crear informes y dashboards utilizando datos de una amplia variedad de fuentes."
      ],
      "metadata": {
        "noteable": {
          "cell_type": "markdown"
        },
        "id": "764a73d4-f439-47b0-9c8e-c9beb0761e83"
      },
      "id": "764a73d4-f439-47b0-9c8e-c9beb0761e83"
    },
    {
      "cell_type": "markdown",
      "source": [
        "### Variables y tipos de variables\n",
        "\n",
        "En estadística, una **variable** es cualquier característica, número o cantidad que se puede medir o contar. Las variables se dividen en dos tipos:\n",
        "\n",
        "- **Variables cuantitativas:** Son variables numéricas que tienen sentido matemático. Se dividen en dos subtipos:\n",
        "  - **Discretas:** Pueden tomar un número finito de valores. Ejemplo: número de alumnos en una clase.\n",
        "  - **Continuas:** Pueden tomar cualquier valor dentro de un rango específico. Ejemplo: altura de una persona.\n",
        "- **Variables cualitativas:** Son variables categóricas que representan diferentes categorías y no tienen sentido matemático. Se dividen en dos subtipos:\n",
        "  - **Nominales:** No tienen un orden natural. Ejemplo: colores, género.\n",
        "  - **Ordinales:** Tienen un orden natural. Ejemplo: nivel educativo, clase social.\n",
        "\n",
        "### Población y muestra\n",
        "\n",
        "- **Población:** Es el conjunto completo de individuos o instancias sobre quienes el estudio quiere hacer inferencias.\n",
        "- **Muestra:** Es un subconjunto de la población que se estudia para inferir propiedades de la población completa.\n",
        "\n",
        "### Datos faltantes\n",
        "\n",
        "Los **datos faltantes** son aquellos que no están disponibles o que no se han recopilado. Es importante identificar y tratar los datos faltantes adecuadamente para evitar conclusiones erróneas.\n",
        "\n",
        "### Outliers\n",
        "\n",
        "Un **outlier** es un valor que es significativamente diferente de la mayoría de los otros valores en un conjunto de datos. Los outliers pueden ser causados por errores en la recopilación de datos o pueden ser valores legítimos que necesitan ser considerados en el análisis.\n",
        "\n",
        "### Distribuciones\n",
        "\n",
        "Una **distribución** describe cómo los valores de una variable están distribuidos. Algunas de las distribuciones más comunes incluyen la distribución normal, la distribución binomial y la distribución poisson."
      ],
      "metadata": {
        "noteable": {
          "cell_type": "markdown"
        },
        "id": "2b1d75b8-17ad-432b-bd64-64f15edc75ef"
      },
      "id": "2b1d75b8-17ad-432b-bd64-64f15edc75ef"
    },
    {
      "cell_type": "markdown",
      "source": [
        "### Medidas de tendencia central\n",
        "\n",
        "Las medidas de tendencia central ayudan a describir la distribución de los datos identificando el valor central. Las principales son:\n",
        "\n",
        "- **Media:** Es el promedio de todos los valores en un conjunto de datos.\n",
        "\n",
        "  \\\\[ \\text{Media} = \\frac{\\sum x_i}{n} \\\\]\n",
        "\n",
        "- **Mediana:** Es el valor que separa el conjunto de datos en dos partes iguales.\n",
        "\n",
        "  \\\\[ \\text{Mediana} = \\text{valor del medio cuando los datos están ordenados} \\\\]\n",
        "\n",
        "- **Moda:** Es el valor que aparece con más frecuencia en un conjunto de datos.\n",
        "\n",
        "  \\\\[ \\text{Moda} = \\text{valor con mayor frecuencia} \\\\]\n",
        "\n",
        "### Medidas de dispersión\n",
        "\n",
        "Las medidas de dispersión indican cómo de dispersos están los valores en un conjunto de datos. Las principales son:\n",
        "\n",
        "- **Rango:** Es la diferencia entre el valor más grande y el valor más pequeño.\n",
        "\n",
        "  \\\\[ \\text{Rango} = \\text{máximo} - \\text{mínimo} \\\\]\n",
        "\n",
        "- **Varianza:** Es el promedio de las diferencias al cuadrado entre cada valor y la media.\n",
        "\n",
        "  \\\\[ \\text{Varianza} = \\frac{\\sum (x_i - \\bar{x})^2}{n} \\\\]\n",
        "\n",
        "- **Desviación estándar:** Es la raíz cuadrada de la varianza.\n",
        "\n",
        "  \\\\[ \\text{Desviación estándar} = \\sqrt{\\text{Varianza}} \\\\]\n",
        "\n",
        "### Medidas de forma\n",
        "\n",
        "Las medidas de forma describen la forma de la distribución de los datos. Las principales son:\n",
        "\n",
        "- **Asimetría:** Indica el grado de simetría de la distribución.\n",
        "\n",
        "  \\\\[ \\text{Asimetría} = \\frac{\\sum (x_i - \\bar{x})^3 / n}{(\\sum (x_i - \\bar{x})^2 / n)^{3/2}} \\\\]\n",
        "\n",
        "- **Curtosis:** Indica el grado de apuntalamiento de la distribución.\n",
        "\n",
        "  \\\\[ \\text{Curtosis} = \\frac{\\sum (x_i - \\bar{x})^4 / n}{(\\sum (x_i - \\bar{x})^2 / n)^2} - 3 \\\\]"
      ],
      "metadata": {
        "noteable": {
          "cell_type": "markdown"
        },
        "id": "a37dfc02-f5d3-4929-93a6-8de6a65ecc09"
      },
      "id": "a37dfc02-f5d3-4929-93a6-8de6a65ecc09"
    },
    {
      "cell_type": "markdown",
      "source": [
        "## Visualización de Datos\n",
        "\n",
        "La visualización de datos es una técnica que utiliza gráficos y diagramas para crear una representación visual de los datos, facilitando así la interpretación y el análisis de los mismos. A continuación, describiremos algunos tipos comunes de gráficos y cómo se pueden utilizar para visualizar datos.\n",
        "\n",
        "### Histogramas\n",
        "\n",
        "Un **histograma** es un gráfico que muestra la distribución de frecuencias de un conjunto de datos continuos o discretos. Los datos se agrupan en intervalos y se representa la frecuencia de cada intervalo.\n",
        "\n",
        "### Diagramas de dispersión\n",
        "\n",
        "Un **diagrama de dispersión** es un gráfico que utiliza coordenadas cartesianas para mostrar los valores de dos variables para un conjunto de datos.\n",
        "\n",
        "### Box plots\n",
        "\n",
        "Un **box plot** es un gráfico que muestra la distribución de un conjunto de datos y sus tendencias centrales. Este gráfico muestra el rango intercuartílico, los valores mínimos y máximos, y posibles outliers.\n",
        "\n",
        "### Gráficos de barras y de líneas\n",
        "\n",
        "- **Gráfico de barras:** Es un gráfico que utiliza barras para mostrar la comparación de valores individuales o grupos de valores.\n",
        "- **Gráfico de líneas:** Es un gráfico que utiliza líneas para mostrar la relación entre dos variables."
      ],
      "metadata": {
        "noteable": {
          "cell_type": "markdown"
        },
        "id": "10e307ab-03b8-44e0-92f4-8c24295047ae"
      },
      "id": "10e307ab-03b8-44e0-92f4-8c24295047ae"
    },
    {
      "cell_type": "markdown",
      "source": [
        "## Realizando EDA en Python\n",
        "\n",
        "Para realizar un Análisis Exploratorio de Datos (EDA) en Python, podemos utilizar varias librerías que facilitan este proceso. A continuación, describiremos algunas de las librerías más populares y cómo podemos utilizarlas para realizar EDA.\n",
        "\n",
        "### Pandas\n",
        "\n",
        "Pandas es una librería de Python que proporciona estructuras de datos y herramientas de análisis de datos. Algunas funciones útiles de pandas son:\n",
        "\n",
        "- Leer y escribir archivos CSV, Excel, entre otros.\n",
        "- Manipulación de datos: limpieza, filtrado, agrupación, etc.\n",
        "- Análisis estadístico básico.\n",
        "\n",
        "### NumPy\n",
        "\n",
        "NumPy es una librería de Python que proporciona soporte para trabajar con arrays y matrices, así como funciones matemáticas para operar con estos objetos.\n",
        "\n",
        "### Matplotlib y Seaborn\n",
        "\n",
        "Matplotlib y Seaborn son librerías de Python que proporcionan una variedad de técnicas de visualización de datos. Mientras que Matplotlib es más básico y permite un control granular sobre los aspectos de la visualización, Seaborn proporciona una interfaz de alto nivel para dibujar gráficos estadísticos atractivos.\n",
        "\n",
        "En las siguientes secciones, veremos cómo utilizar estas librerías para realizar EDA en Python."
      ],
      "metadata": {
        "noteable": {
          "cell_type": "markdown"
        },
        "id": "3f421397-4d84-4a13-8105-ae4456fb8569"
      },
      "id": "3f421397-4d84-4a13-8105-ae4456fb8569"
    },
    {
      "cell_type": "code",
      "source": [
        "import pandas as pd\n",
        "import numpy as np\n",
        "import matplotlib.pyplot as plt\n",
        "import seaborn as sns\n",
        "\n",
        "# Configurando el estilo de los gráficos\n",
        "sns.set(style=\"whitegrid\")"
      ],
      "outputs": [],
      "execution_count": 1,
      "metadata": {
        "noteable": {
          "cell_type": "code"
        },
        "ExecuteTime": {
          "start_time": "2023-09-15T10:53:14.258030+00:00",
          "end_time": "2023-09-15T10:53:14.910867+00:00"
        },
        "id": "1bf97971-b5e1-43c9-a9bc-3944910c7909"
      },
      "id": "1bf97971-b5e1-43c9-a9bc-3944910c7909"
    },
    {
      "cell_type": "code",
      "source": [
        "# Generando datos aleatorios para el análisis\n",
        "np.random.seed(42)\n",
        "data = np.random.randn(1000)\n",
        "\n",
        "# Creando un DataFrame de pandas\n",
        "df = pd.DataFrame({'Data': data})\n",
        "\n",
        "# Mostrando las primeras filas del DataFrame\n",
        "df.head()"
      ],
      "outputs": [
        {
          "output_type": "execute_result",
          "data": {
            "text/plain": [
              "       Data\n",
              "0  0.496714\n",
              "1 -0.138264\n",
              "2  0.647689\n",
              "3  1.523030\n",
              "4 -0.234153"
            ],
            "text/html": [
              "\n",
              "  <div id=\"df-6d16c75e-be64-4c03-959e-1a5c45397abb\" class=\"colab-df-container\">\n",
              "    <div>\n",
              "<style scoped>\n",
              "    .dataframe tbody tr th:only-of-type {\n",
              "        vertical-align: middle;\n",
              "    }\n",
              "\n",
              "    .dataframe tbody tr th {\n",
              "        vertical-align: top;\n",
              "    }\n",
              "\n",
              "    .dataframe thead th {\n",
              "        text-align: right;\n",
              "    }\n",
              "</style>\n",
              "<table border=\"1\" class=\"dataframe\">\n",
              "  <thead>\n",
              "    <tr style=\"text-align: right;\">\n",
              "      <th></th>\n",
              "      <th>Data</th>\n",
              "    </tr>\n",
              "  </thead>\n",
              "  <tbody>\n",
              "    <tr>\n",
              "      <th>0</th>\n",
              "      <td>0.496714</td>\n",
              "    </tr>\n",
              "    <tr>\n",
              "      <th>1</th>\n",
              "      <td>-0.138264</td>\n",
              "    </tr>\n",
              "    <tr>\n",
              "      <th>2</th>\n",
              "      <td>0.647689</td>\n",
              "    </tr>\n",
              "    <tr>\n",
              "      <th>3</th>\n",
              "      <td>1.523030</td>\n",
              "    </tr>\n",
              "    <tr>\n",
              "      <th>4</th>\n",
              "      <td>-0.234153</td>\n",
              "    </tr>\n",
              "  </tbody>\n",
              "</table>\n",
              "</div>\n",
              "    <div class=\"colab-df-buttons\">\n",
              "\n",
              "  <div class=\"colab-df-container\">\n",
              "    <button class=\"colab-df-convert\" onclick=\"convertToInteractive('df-6d16c75e-be64-4c03-959e-1a5c45397abb')\"\n",
              "            title=\"Convert this dataframe to an interactive table.\"\n",
              "            style=\"display:none;\">\n",
              "\n",
              "  <svg xmlns=\"http://www.w3.org/2000/svg\" height=\"24px\" viewBox=\"0 -960 960 960\">\n",
              "    <path d=\"M120-120v-720h720v720H120Zm60-500h600v-160H180v160Zm220 220h160v-160H400v160Zm0 220h160v-160H400v160ZM180-400h160v-160H180v160Zm440 0h160v-160H620v160ZM180-180h160v-160H180v160Zm440 0h160v-160H620v160Z\"/>\n",
              "  </svg>\n",
              "    </button>\n",
              "\n",
              "  <style>\n",
              "    .colab-df-container {\n",
              "      display:flex;\n",
              "      gap: 12px;\n",
              "    }\n",
              "\n",
              "    .colab-df-convert {\n",
              "      background-color: #E8F0FE;\n",
              "      border: none;\n",
              "      border-radius: 50%;\n",
              "      cursor: pointer;\n",
              "      display: none;\n",
              "      fill: #1967D2;\n",
              "      height: 32px;\n",
              "      padding: 0 0 0 0;\n",
              "      width: 32px;\n",
              "    }\n",
              "\n",
              "    .colab-df-convert:hover {\n",
              "      background-color: #E2EBFA;\n",
              "      box-shadow: 0px 1px 2px rgba(60, 64, 67, 0.3), 0px 1px 3px 1px rgba(60, 64, 67, 0.15);\n",
              "      fill: #174EA6;\n",
              "    }\n",
              "\n",
              "    .colab-df-buttons div {\n",
              "      margin-bottom: 4px;\n",
              "    }\n",
              "\n",
              "    [theme=dark] .colab-df-convert {\n",
              "      background-color: #3B4455;\n",
              "      fill: #D2E3FC;\n",
              "    }\n",
              "\n",
              "    [theme=dark] .colab-df-convert:hover {\n",
              "      background-color: #434B5C;\n",
              "      box-shadow: 0px 1px 3px 1px rgba(0, 0, 0, 0.15);\n",
              "      filter: drop-shadow(0px 1px 2px rgba(0, 0, 0, 0.3));\n",
              "      fill: #FFFFFF;\n",
              "    }\n",
              "  </style>\n",
              "\n",
              "    <script>\n",
              "      const buttonEl =\n",
              "        document.querySelector('#df-6d16c75e-be64-4c03-959e-1a5c45397abb button.colab-df-convert');\n",
              "      buttonEl.style.display =\n",
              "        google.colab.kernel.accessAllowed ? 'block' : 'none';\n",
              "\n",
              "      async function convertToInteractive(key) {\n",
              "        const element = document.querySelector('#df-6d16c75e-be64-4c03-959e-1a5c45397abb');\n",
              "        const dataTable =\n",
              "          await google.colab.kernel.invokeFunction('convertToInteractive',\n",
              "                                                    [key], {});\n",
              "        if (!dataTable) return;\n",
              "\n",
              "        const docLinkHtml = 'Like what you see? Visit the ' +\n",
              "          '<a target=\"_blank\" href=https://colab.research.google.com/notebooks/data_table.ipynb>data table notebook</a>'\n",
              "          + ' to learn more about interactive tables.';\n",
              "        element.innerHTML = '';\n",
              "        dataTable['output_type'] = 'display_data';\n",
              "        await google.colab.output.renderOutput(dataTable, element);\n",
              "        const docLink = document.createElement('div');\n",
              "        docLink.innerHTML = docLinkHtml;\n",
              "        element.appendChild(docLink);\n",
              "      }\n",
              "    </script>\n",
              "  </div>\n",
              "\n",
              "\n",
              "<div id=\"df-791724aa-6c36-42b6-a21c-0ea16c3fffd0\">\n",
              "  <button class=\"colab-df-quickchart\" onclick=\"quickchart('df-791724aa-6c36-42b6-a21c-0ea16c3fffd0')\"\n",
              "            title=\"Suggest charts.\"\n",
              "            style=\"display:none;\">\n",
              "\n",
              "<svg xmlns=\"http://www.w3.org/2000/svg\" height=\"24px\"viewBox=\"0 0 24 24\"\n",
              "     width=\"24px\">\n",
              "    <g>\n",
              "        <path d=\"M19 3H5c-1.1 0-2 .9-2 2v14c0 1.1.9 2 2 2h14c1.1 0 2-.9 2-2V5c0-1.1-.9-2-2-2zM9 17H7v-7h2v7zm4 0h-2V7h2v10zm4 0h-2v-4h2v4z\"/>\n",
              "    </g>\n",
              "</svg>\n",
              "  </button>\n",
              "\n",
              "<style>\n",
              "  .colab-df-quickchart {\n",
              "      --bg-color: #E8F0FE;\n",
              "      --fill-color: #1967D2;\n",
              "      --hover-bg-color: #E2EBFA;\n",
              "      --hover-fill-color: #174EA6;\n",
              "      --disabled-fill-color: #AAA;\n",
              "      --disabled-bg-color: #DDD;\n",
              "  }\n",
              "\n",
              "  [theme=dark] .colab-df-quickchart {\n",
              "      --bg-color: #3B4455;\n",
              "      --fill-color: #D2E3FC;\n",
              "      --hover-bg-color: #434B5C;\n",
              "      --hover-fill-color: #FFFFFF;\n",
              "      --disabled-bg-color: #3B4455;\n",
              "      --disabled-fill-color: #666;\n",
              "  }\n",
              "\n",
              "  .colab-df-quickchart {\n",
              "    background-color: var(--bg-color);\n",
              "    border: none;\n",
              "    border-radius: 50%;\n",
              "    cursor: pointer;\n",
              "    display: none;\n",
              "    fill: var(--fill-color);\n",
              "    height: 32px;\n",
              "    padding: 0;\n",
              "    width: 32px;\n",
              "  }\n",
              "\n",
              "  .colab-df-quickchart:hover {\n",
              "    background-color: var(--hover-bg-color);\n",
              "    box-shadow: 0 1px 2px rgba(60, 64, 67, 0.3), 0 1px 3px 1px rgba(60, 64, 67, 0.15);\n",
              "    fill: var(--button-hover-fill-color);\n",
              "  }\n",
              "\n",
              "  .colab-df-quickchart-complete:disabled,\n",
              "  .colab-df-quickchart-complete:disabled:hover {\n",
              "    background-color: var(--disabled-bg-color);\n",
              "    fill: var(--disabled-fill-color);\n",
              "    box-shadow: none;\n",
              "  }\n",
              "\n",
              "  .colab-df-spinner {\n",
              "    border: 2px solid var(--fill-color);\n",
              "    border-color: transparent;\n",
              "    border-bottom-color: var(--fill-color);\n",
              "    animation:\n",
              "      spin 1s steps(1) infinite;\n",
              "  }\n",
              "\n",
              "  @keyframes spin {\n",
              "    0% {\n",
              "      border-color: transparent;\n",
              "      border-bottom-color: var(--fill-color);\n",
              "      border-left-color: var(--fill-color);\n",
              "    }\n",
              "    20% {\n",
              "      border-color: transparent;\n",
              "      border-left-color: var(--fill-color);\n",
              "      border-top-color: var(--fill-color);\n",
              "    }\n",
              "    30% {\n",
              "      border-color: transparent;\n",
              "      border-left-color: var(--fill-color);\n",
              "      border-top-color: var(--fill-color);\n",
              "      border-right-color: var(--fill-color);\n",
              "    }\n",
              "    40% {\n",
              "      border-color: transparent;\n",
              "      border-right-color: var(--fill-color);\n",
              "      border-top-color: var(--fill-color);\n",
              "    }\n",
              "    60% {\n",
              "      border-color: transparent;\n",
              "      border-right-color: var(--fill-color);\n",
              "    }\n",
              "    80% {\n",
              "      border-color: transparent;\n",
              "      border-right-color: var(--fill-color);\n",
              "      border-bottom-color: var(--fill-color);\n",
              "    }\n",
              "    90% {\n",
              "      border-color: transparent;\n",
              "      border-bottom-color: var(--fill-color);\n",
              "    }\n",
              "  }\n",
              "</style>\n",
              "\n",
              "  <script>\n",
              "    async function quickchart(key) {\n",
              "      const quickchartButtonEl =\n",
              "        document.querySelector('#' + key + ' button');\n",
              "      quickchartButtonEl.disabled = true;  // To prevent multiple clicks.\n",
              "      quickchartButtonEl.classList.add('colab-df-spinner');\n",
              "      try {\n",
              "        const charts = await google.colab.kernel.invokeFunction(\n",
              "            'suggestCharts', [key], {});\n",
              "      } catch (error) {\n",
              "        console.error('Error during call to suggestCharts:', error);\n",
              "      }\n",
              "      quickchartButtonEl.classList.remove('colab-df-spinner');\n",
              "      quickchartButtonEl.classList.add('colab-df-quickchart-complete');\n",
              "    }\n",
              "    (() => {\n",
              "      let quickchartButtonEl =\n",
              "        document.querySelector('#df-791724aa-6c36-42b6-a21c-0ea16c3fffd0 button');\n",
              "      quickchartButtonEl.style.display =\n",
              "        google.colab.kernel.accessAllowed ? 'block' : 'none';\n",
              "    })();\n",
              "  </script>\n",
              "</div>\n",
              "    </div>\n",
              "  </div>\n"
            ]
          },
          "metadata": {},
          "execution_count": 2
        }
      ],
      "execution_count": 2,
      "metadata": {
        "noteable": {
          "cell_type": "code"
        },
        "ExecuteTime": {
          "start_time": "2023-09-15T10:53:17.143255+00:00",
          "end_time": "2023-09-15T10:53:17.327541+00:00"
        },
        "datalink": {
          "1da579e6-df7c-455d-a6dd-f6f5b48fed2e": {
            "dataframe_info": {
              "default_index_used": true,
              "orig_size_bytes": 80,
              "orig_num_rows": 5,
              "orig_num_cols": 1,
              "truncated_string_columns": [],
              "truncated_size_bytes": 80,
              "truncated_num_rows": 5,
              "truncated_num_cols": 1
            },
            "dx_settings": {
              "LOG_LEVEL": 30,
              "DEV_MODE": false,
              "DISPLAY_MAX_ROWS": 50000,
              "DISPLAY_MAX_COLUMNS": 100,
              "HTML_TABLE_SCHEMA": false,
              "MAX_RENDER_SIZE_BYTES": 104857600,
              "MAX_STRING_LENGTH": 250,
              "SAMPLING_FACTOR": 0.1,
              "DISPLAY_MODE": "simple",
              "SAMPLING_METHOD": "random",
              "COLUMN_SAMPLING_METHOD": "outer",
              "ROW_SAMPLING_METHOD": "random",
              "RANDOM_STATE": 12648430,
              "RESET_INDEX_VALUES": false,
              "FLATTEN_INDEX_VALUES": false,
              "FLATTEN_COLUMN_VALUES": true,
              "STRINGIFY_INDEX_VALUES": false,
              "STRINGIFY_COLUMN_VALUES": true,
              "ENABLE_DATALINK": true,
              "ENABLE_ASSIGNMENT": true,
              "NUM_PAST_SAMPLES_TRACKED": 3,
              "DB_LOCATION": ":memory:",
              "GENERATE_DEX_METADATA": false,
              "ALLOW_NOTEABLE_ATTRS": true
            },
            "display_id": "1da579e6-df7c-455d-a6dd-f6f5b48fed2e",
            "applied_filters": [],
            "sample_history": [],
            "sampling_time": "2023-09-15T10:53:17.164080",
            "variable_name": "unk_dataframe_c027af1f2a354ddcbf03173866984e3f",
            "user_variable_name": null
          }
        },
        "colab": {
          "base_uri": "https://localhost:8080/",
          "height": 206
        },
        "id": "56d8e4b6-280c-4e84-a448-dd24a48b4170",
        "outputId": "1cde4a56-03e1-4867-8cdc-a112d7e00df6"
      },
      "id": "56d8e4b6-280c-4e84-a448-dd24a48b4170"
    },
    {
      "cell_type": "code",
      "source": [
        "# Calculando medidas de tendencia central\n",
        "media = df['Data'].mean()\n",
        "mediana = df['Data'].median()\n",
        "moda = df['Data'].mode().values[0]\n",
        "\n",
        "# Calculando medidas de dispersión\n",
        "varianza = df['Data'].var()\n",
        "desviacion_estandar = df['Data'].std()\n",
        "rango = df['Data'].max() - df['Data'].min()\n",
        "\n",
        "# Calculando medidas de forma\n",
        "asimetria = df['Data'].skew()\n",
        "curtosis = df['Data'].kurtosis()\n",
        "\n",
        "# Mostrando los resultados\n",
        "pd.DataFrame({\n",
        "    'Media': [media],\n",
        "    'Mediana': [mediana],\n",
        "    'Moda': [moda],\n",
        "    'Varianza': [varianza],\n",
        "    'Desviación Estándar': [desviacion_estandar],\n",
        "    'Rango': [rango],\n",
        "    'Asimetría': [asimetria],\n",
        "    'Curtosis': [curtosis]\n",
        "})"
      ],
      "outputs": [
        {
          "output_type": "execute_result",
          "data": {
            "text/plain": [
              "      Media   Mediana      Moda  Varianza  Desviación Estándar     Rango  \\\n",
              "0  0.019332  0.025301 -3.241267  0.958864             0.979216  7.093999   \n",
              "\n",
              "   Asimetría  Curtosis  \n",
              "0   0.116976  0.072562  "
            ],
            "text/html": [
              "\n",
              "  <div id=\"df-41628a2b-5bdb-467c-a9bf-8b233a672a36\" class=\"colab-df-container\">\n",
              "    <div>\n",
              "<style scoped>\n",
              "    .dataframe tbody tr th:only-of-type {\n",
              "        vertical-align: middle;\n",
              "    }\n",
              "\n",
              "    .dataframe tbody tr th {\n",
              "        vertical-align: top;\n",
              "    }\n",
              "\n",
              "    .dataframe thead th {\n",
              "        text-align: right;\n",
              "    }\n",
              "</style>\n",
              "<table border=\"1\" class=\"dataframe\">\n",
              "  <thead>\n",
              "    <tr style=\"text-align: right;\">\n",
              "      <th></th>\n",
              "      <th>Media</th>\n",
              "      <th>Mediana</th>\n",
              "      <th>Moda</th>\n",
              "      <th>Varianza</th>\n",
              "      <th>Desviación Estándar</th>\n",
              "      <th>Rango</th>\n",
              "      <th>Asimetría</th>\n",
              "      <th>Curtosis</th>\n",
              "    </tr>\n",
              "  </thead>\n",
              "  <tbody>\n",
              "    <tr>\n",
              "      <th>0</th>\n",
              "      <td>0.019332</td>\n",
              "      <td>0.025301</td>\n",
              "      <td>-3.241267</td>\n",
              "      <td>0.958864</td>\n",
              "      <td>0.979216</td>\n",
              "      <td>7.093999</td>\n",
              "      <td>0.116976</td>\n",
              "      <td>0.072562</td>\n",
              "    </tr>\n",
              "  </tbody>\n",
              "</table>\n",
              "</div>\n",
              "    <div class=\"colab-df-buttons\">\n",
              "\n",
              "  <div class=\"colab-df-container\">\n",
              "    <button class=\"colab-df-convert\" onclick=\"convertToInteractive('df-41628a2b-5bdb-467c-a9bf-8b233a672a36')\"\n",
              "            title=\"Convert this dataframe to an interactive table.\"\n",
              "            style=\"display:none;\">\n",
              "\n",
              "  <svg xmlns=\"http://www.w3.org/2000/svg\" height=\"24px\" viewBox=\"0 -960 960 960\">\n",
              "    <path d=\"M120-120v-720h720v720H120Zm60-500h600v-160H180v160Zm220 220h160v-160H400v160Zm0 220h160v-160H400v160ZM180-400h160v-160H180v160Zm440 0h160v-160H620v160ZM180-180h160v-160H180v160Zm440 0h160v-160H620v160Z\"/>\n",
              "  </svg>\n",
              "    </button>\n",
              "\n",
              "  <style>\n",
              "    .colab-df-container {\n",
              "      display:flex;\n",
              "      gap: 12px;\n",
              "    }\n",
              "\n",
              "    .colab-df-convert {\n",
              "      background-color: #E8F0FE;\n",
              "      border: none;\n",
              "      border-radius: 50%;\n",
              "      cursor: pointer;\n",
              "      display: none;\n",
              "      fill: #1967D2;\n",
              "      height: 32px;\n",
              "      padding: 0 0 0 0;\n",
              "      width: 32px;\n",
              "    }\n",
              "\n",
              "    .colab-df-convert:hover {\n",
              "      background-color: #E2EBFA;\n",
              "      box-shadow: 0px 1px 2px rgba(60, 64, 67, 0.3), 0px 1px 3px 1px rgba(60, 64, 67, 0.15);\n",
              "      fill: #174EA6;\n",
              "    }\n",
              "\n",
              "    .colab-df-buttons div {\n",
              "      margin-bottom: 4px;\n",
              "    }\n",
              "\n",
              "    [theme=dark] .colab-df-convert {\n",
              "      background-color: #3B4455;\n",
              "      fill: #D2E3FC;\n",
              "    }\n",
              "\n",
              "    [theme=dark] .colab-df-convert:hover {\n",
              "      background-color: #434B5C;\n",
              "      box-shadow: 0px 1px 3px 1px rgba(0, 0, 0, 0.15);\n",
              "      filter: drop-shadow(0px 1px 2px rgba(0, 0, 0, 0.3));\n",
              "      fill: #FFFFFF;\n",
              "    }\n",
              "  </style>\n",
              "\n",
              "    <script>\n",
              "      const buttonEl =\n",
              "        document.querySelector('#df-41628a2b-5bdb-467c-a9bf-8b233a672a36 button.colab-df-convert');\n",
              "      buttonEl.style.display =\n",
              "        google.colab.kernel.accessAllowed ? 'block' : 'none';\n",
              "\n",
              "      async function convertToInteractive(key) {\n",
              "        const element = document.querySelector('#df-41628a2b-5bdb-467c-a9bf-8b233a672a36');\n",
              "        const dataTable =\n",
              "          await google.colab.kernel.invokeFunction('convertToInteractive',\n",
              "                                                    [key], {});\n",
              "        if (!dataTable) return;\n",
              "\n",
              "        const docLinkHtml = 'Like what you see? Visit the ' +\n",
              "          '<a target=\"_blank\" href=https://colab.research.google.com/notebooks/data_table.ipynb>data table notebook</a>'\n",
              "          + ' to learn more about interactive tables.';\n",
              "        element.innerHTML = '';\n",
              "        dataTable['output_type'] = 'display_data';\n",
              "        await google.colab.output.renderOutput(dataTable, element);\n",
              "        const docLink = document.createElement('div');\n",
              "        docLink.innerHTML = docLinkHtml;\n",
              "        element.appendChild(docLink);\n",
              "      }\n",
              "    </script>\n",
              "  </div>\n",
              "\n",
              "    </div>\n",
              "  </div>\n"
            ]
          },
          "metadata": {},
          "execution_count": 3
        }
      ],
      "execution_count": 3,
      "metadata": {
        "noteable": {
          "cell_type": "code"
        },
        "ExecuteTime": {
          "start_time": "2023-09-15T10:53:20.662260+00:00",
          "end_time": "2023-09-15T10:53:20.861667+00:00"
        },
        "datalink": {
          "ce39131d-d786-4d8e-8ebe-b1a00e764529": {
            "dataframe_info": {
              "default_index_used": true,
              "orig_size_bytes": 72,
              "orig_num_rows": 1,
              "orig_num_cols": 8,
              "truncated_string_columns": [],
              "truncated_size_bytes": 72,
              "truncated_num_rows": 1,
              "truncated_num_cols": 8
            },
            "dx_settings": {
              "LOG_LEVEL": 30,
              "DEV_MODE": false,
              "DISPLAY_MAX_ROWS": 50000,
              "DISPLAY_MAX_COLUMNS": 100,
              "HTML_TABLE_SCHEMA": false,
              "MAX_RENDER_SIZE_BYTES": 104857600,
              "MAX_STRING_LENGTH": 250,
              "SAMPLING_FACTOR": 0.1,
              "DISPLAY_MODE": "simple",
              "SAMPLING_METHOD": "random",
              "COLUMN_SAMPLING_METHOD": "outer",
              "ROW_SAMPLING_METHOD": "random",
              "RANDOM_STATE": 12648430,
              "RESET_INDEX_VALUES": false,
              "FLATTEN_INDEX_VALUES": false,
              "FLATTEN_COLUMN_VALUES": true,
              "STRINGIFY_INDEX_VALUES": false,
              "STRINGIFY_COLUMN_VALUES": true,
              "ENABLE_DATALINK": true,
              "ENABLE_ASSIGNMENT": true,
              "NUM_PAST_SAMPLES_TRACKED": 3,
              "DB_LOCATION": ":memory:",
              "GENERATE_DEX_METADATA": false,
              "ALLOW_NOTEABLE_ATTRS": true
            },
            "display_id": "ce39131d-d786-4d8e-8ebe-b1a00e764529",
            "applied_filters": [],
            "sample_history": [],
            "sampling_time": "2023-09-15T10:53:20.702270",
            "variable_name": "unk_dataframe_4bd960f754624c688db606269855365e",
            "user_variable_name": null
          }
        },
        "colab": {
          "base_uri": "https://localhost:8080/",
          "height": 81
        },
        "id": "c5c5df80-2e9f-4f56-9687-8ea2947fbcd1",
        "outputId": "89d25278-3670-49fb-d0ed-6718ba78f249"
      },
      "id": "c5c5df80-2e9f-4f56-9687-8ea2947fbcd1"
    },
    {
      "cell_type": "code",
      "source": [
        "# Creando histograma\n",
        "plt.figure(figsize=(8, 6))\n",
        "sns.histplot(df['Data'], bins=30, kde=True)\n",
        "plt.title('Histograma')\n",
        "plt.xlabel('Datos')\n",
        "plt.ylabel('Frecuencia')\n",
        "plt.grid(axis='y')\n",
        "plt.show()"
      ],
      "outputs": [
        {
          "output_type": "display_data",
          "data": {
            "text/plain": [
              "<Figure size 800x600 with 1 Axes>"
            ],
            "image/png": "[encoded data removed]"
          },
          "metadata": {}
        }
      ],
      "execution_count": 4,
      "metadata": {
        "noteable": {
          "cell_type": "code"
        },
        "ExecuteTime": {
          "start_time": "2023-09-15T10:53:24.872672+00:00",
          "end_time": "2023-09-15T10:53:25.464607+00:00"
        },
        "colab": {
          "base_uri": "https://localhost:8080/",
          "height": 573
        },
        "id": "7930e3ad-ac03-4db0-aa94-bea1387bf28c",
        "outputId": "df024371-50ba-48dd-8f79-f6166d40c0b3"
      },
      "id": "7930e3ad-ac03-4db0-aa94-bea1387bf28c"
    },
    {
      "cell_type": "code",
      "source": [
        "# Creando box plot\n",
        "plt.figure(figsize=(8, 6))\n",
        "sns.boxplot(x=df['Data'])\n",
        "plt.title('Box Plot')\n",
        "plt.xlabel('Datos')\n",
        "plt.grid(axis='y')\n",
        "plt.show()"
      ],
      "outputs": [
        {
          "output_type": "display_data",
          "data": {
            "text/plain": [
              "<Figure size 800x600 with 1 Axes>"
            ],
            "image/png": "[encoded data removed]"
          },
          "metadata": {}
        }
      ],
      "execution_count": 5,
      "metadata": {
        "noteable": {
          "cell_type": "code"
        },
        "ExecuteTime": {
          "start_time": "2023-09-15T10:53:28.978518+00:00",
          "end_time": "2023-09-15T10:53:29.343571+00:00"
        },
        "colab": {
          "base_uri": "https://localhost:8080/",
          "height": 573
        },
        "id": "6fcb5f1f-7684-4307-bbbe-a9db10db1cc4",
        "outputId": "d515163e-918f-40fd-a34b-8884aa32f554"
      },
      "id": "6fcb5f1f-7684-4307-bbbe-a9db10db1cc4"
    },
    {
      "cell_type": "code",
      "source": [
        "# Creando un gráfico que muestre la media, mediana, moda y desviación estándar\n",
        "\n",
        "plt.figure(figsize=(8, 6))\n",
        "\n",
        "# Dibujando el histograma\n",
        "sns.histplot(df['Data'], bins=30, kde=True, alpha=0.5)\n",
        "\n",
        "# Añadiendo líneas verticales para la media, mediana y moda\n",
        "plt.axvline(media, color='red', linestyle='dashed', linewidth=1, label='Media')\n",
        "plt.axvline(mediana, color='green', linestyle='dashed', linewidth=1, label='Mediana')\n",
        "plt.axvline(moda, color='blue', linestyle='dashed', linewidth=1, label='Moda')\n",
        "\n",
        "# Añadiendo sombreado para la desviación estándar\n",
        "plt.axvspan(media - desviacion_estandar, media + desviacion_estandar, alpha=0.2, color='red', label='Desviación Estándar')\n",
        "\n",
        "# Añadiendo etiquetas y leyenda\n",
        "plt.title('Distribución de los Datos')\n",
        "plt.xlabel('Datos')\n",
        "plt.ylabel('Frecuencia')\n",
        "plt.legend()\n",
        "plt.grid(axis='y')\n",
        "\n",
        "# Mostrando el gráfico\n",
        "plt.show()"
      ],
      "outputs": [
        {
          "output_type": "display_data",
          "data": {
            "text/plain": [
              "<Figure size 800x600 with 1 Axes>"
            ],
            "image/png": "[encoded data removed]"
          },
          "metadata": {}
        }
      ],
      "execution_count": 6,
      "metadata": {
        "noteable": {
          "cell_type": "code"
        },
        "ExecuteTime": {
          "start_time": "2023-09-15T10:55:25.006539+00:00",
          "end_time": "2023-09-15T10:55:25.555177+00:00"
        },
        "colab": {
          "base_uri": "https://localhost:8080/",
          "height": 573
        },
        "id": "5ee2188d-f576-4f3d-9b2a-a3882cd5b110",
        "outputId": "b3a2c8c2-e78b-4384-e54f-db87a2fd4338"
      },
      "id": "5ee2188d-f576-4f3d-9b2a-a3882cd5b110"
    },
    {
      "cell_type": "markdown",
      "source": [
        "## Conclusiones\n",
        "\n",
        "A lo largo de este cuaderno, hemos explorado los conceptos básicos del Análisis Exploratorio de Datos (EDA) y cómo podemos aplicarlos utilizando Python. Aquí están algunas conclusiones clave:\n",
        "\n",
        "- **Medidas de Tendencia Central:** La media, mediana y moda nos ayudan a entender el centro de nuestra distribución de datos.\n",
        "- **Medidas de Dispersión:** La varianza y la desviación estándar nos indican cuán dispersos están los datos alrededor de la media.\n",
        "- **Visualización de Datos:** Las visualizaciones como histogramas, box plots y diagramas de dispersión son herramientas poderosas para entender la distribución y las relaciones en nuestros datos.\n",
        "- **Librerías de Python:** Pandas, NumPy, Matplotlib y Seaborn son librerías esenciales en Python para realizar EDA de manera eficiente y efectiva.\n",
        "\n",
        "Esperamos que este cuaderno te haya proporcionado una buena introducción al EDA en Python. Recuerda que siempre puedes explorar más funcionalidades de las librerías mencionadas para profundizar tu análisis."
      ],
      "metadata": {
        "noteable": {
          "cell_type": "markdown"
        },
        "id": "4654cfdd-9674-4d6a-a7b0-d5377800c185"
      },
      "id": "4654cfdd-9674-4d6a-a7b0-d5377800c185"
    }
  ],
  "metadata": {
    "noteable-chatgpt": {
      "create_notebook": {
        "openai_conversation_id": "15fdea06-0170-53a2-9e81-951e809b42f9",
        "openai_ephemeral_user_id": "9e0d10e5-1908-5497-9620-9cd6cbbf6b2f",
        "openai_subdivision1_iso_code": "CO-DC"
      }
    },
    "kernel_info": {
      "name": "python3"
    },
    "noteable": {
      "last_delta_id": "bf1789a5-93b8-408a-8a11-d2e835d9ab43"
    },
    "kernelspec": {
      "display_name": "Python 3.9",
      "language": "python",
      "name": "python3"
    },
    "selected_hardware_size": "small",
    "nteract": {
      "version": "noteable@2.9.0"
    },
    "colab": {
      "provenance": []
    }
  },
  "nbformat": 4,
  "nbformat_minor": 5
}