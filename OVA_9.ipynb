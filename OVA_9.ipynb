{
  "cells": [
    {
      "cell_type": "markdown",
      "id": "9060486a-0cbf-4d6d-95ad-7dbacce13967",
      "metadata": {
        "noteable": {
          "cell_type": "markdown"
        }
      },
      "source": [
        "# Introducción a la Ciencia de Datos\n"
      ]
    },
    {
      "cell_type": "markdown",
      "id": "324ac368-1e17-4a6d-aa15-221b47d5cbc3",
      "metadata": {
        "noteable": {
          "cell_type": "markdown"
        }
      },
      "source": [
        "# Aprendizaje Profundo con Python\n",
        "\n",
        "## Contenido\n",
        "1. [Introducción](#introduction)\n",
        "2. [Redes Neuronales Convolucionales (CNN)](#cnn)\n",
        "3. [Redes Neuronales Recurrentes (RNN)](#rnn)\n",
        "4. [Entrenamiento y Optimización](#training)\n",
        "5. [Ejemplo de Código](#code)\n",
        "6. [Conclusión](#conclusion)\n",
        "\n",
        "## 1. Introducción <a name=\"introduction\"></a>\n",
        "\n",
        "En este cuaderno, exploraremos dos tipos principales de redes neuronales utilizadas en el aprendizaje profundo: las Redes Neuronales Convolucionales (CNN) y las Redes Neuronales Recurrentes (RNN). \n",
        "\n",
        "## 2. Redes Neuronales Convolucionales (CNN) <a name=\"cnn\"></a>\n",
        "\n",
        "Las CNN son especialmente útiles para procesar datos con una estructura de grid, como las imágenes. \n",
        "\n",
        "### ¿Qué es una red neuronal convolucional?\n",
        "\n",
        "Una CNN es un tipo de red neuronal que procesa datos con una estructura de grid. Consiste en una o más capas convolucionales, seguidas por una o más capas completamente conectadas, como en una red neuronal estándar.\n",
        "\n",
        "### Componentes de una CNN\n",
        "\n",
        "- **Capas Convolucionales**: Aplican filtros para extraer características de los datos de entrada.\n",
        "- **Capas de agrupamiento (Pooling)**: Reducen las dimensiones de las representaciones para disminuir la cantidad de parámetros y evitar el sobreajuste.\n",
        "\n",
        "### Flujo de información en CNNs\n",
        "\n",
        "Los datos fluyen de la siguiente manera: Capas convolucionales > Capas de pooling > Capas completamente conectadas.\n",
        "\n",
        "### Aplicaciones de CNNs\n",
        "\n",
        "Las CNN se utilizan en la clasificación y segmentación de imágenes, reconocimiento de objetos, y detección de anomalías.\n",
        "\n",
        "## 3. Redes Neuronales Recurrentes (RNN) <a name=\"rnn\"></a>\n",
        "\n",
        "Las RNN son ideales para secuencias temporales, como el texto o el audio.\n",
        "\n",
        "### ¿Qué es una red neuronal recurrente?\n",
        "\n",
        "Una RNN es una red que procesa secuencias temporales mediante loops de retroalimentación.\n",
        "\n",
        "### Tipos y características de RNN\n",
        "\n",
        "- **Tipos**: SimpleRNN, LSTM, GRU.\n",
        "- **Memoria en RNNs**: Permite a las RNNs procesar contexto de secuencias largas.\n",
        "\n",
        "### Aplicaciones de RNNs\n",
        "\n",
        "Las RNNs se utilizan en el procesamiento de lenguaje natural, reconocimiento de voz, y pronóstico de series de tiempo.\n",
        "\n",
        "## 4. Entrenamiento y Optimización <a name=\"training\"></a>\n",
        "\n",
        "Durante el entrenamiento, se presentan desafíos como el gradiente desvaneciente y el sobreajuste. El gradiente desvaneciente puede ser mitigado usando variantes de RNN como LSTM y GRU. El sobreajuste puede ser regulado usando técnicas como el dropout y la regularización L1/L2.\n",
        "\n",
        "## 5. Ejemplo de Código <a name=\"code\"></a>\n",
        "```python\n",
        "# Importar datos\n",
        "from tensorflow.keras.datasets import mnist\n",
        "(X_train, y_train), (X_test, y_test) = mnist.load_data()\n",
        "\n",
        "# Definir modelo CNN\n",
        "from tensorflow.keras import Sequential\n",
        "from tensorflow.keras.layers import Conv2D, MaxPool2D\n",
        "\n",
        "model = Sequential()\n",
        "model.add(Conv2D(filters=32, kernel_size=3, activation='relu'))\n",
        "model.add(MaxPool2D(pool_size=2)) \n",
        "\n",
        "# Definir modelo RNN\n",
        "from tensorflow.keras.layers import SimpleRNN\n",
        "\n",
        "model = Sequential()\n",
        "model.add(SimpleRNN(units=50, return_sequences=True)) \n",
        "model.add(SimpleRNN(units=50))\n",
        "model.add(Dense(1))\n",
        "\n",
        "# Entrenamiento y optimización\n",
        "model.compile(loss='categorical_crossentropy', \n",
        "              optimizer='adam',\n",
        "              metrics=['accuracy'])\n",
        "\n",
        "model.fit(X_train, y_train, epochs=10)\n"
      ]
    },
    {
      "cell_type": "markdown",
      "id": "6111ae05",
      "metadata": {},
      "source": [
        "# Conclusión \n",
        "Las redes neuronales convolucionales y recurrentes son poderosas herramientas de aprendizaje profundo, cada una adecuada para diferentes tipos de estructuras de datos. A pesar de los desafíos en el entrenamiento, con la elección adecuada de funciones de pérdida y optimizadores, estos modelos pueden ser altamente efectivos para tareas como el procesamiento de imágenes y texto."
      ]
    }
  ],
  "metadata": {
    "kernel_info": {
      "name": "python3"
    },
    "kernelspec": {
      "display_name": "Python 3.9",
      "language": "python",
      "name": "python3"
    },
    "noteable": {
      "last_delta_id": "6c1f88a2-20ac-4fe8-bbd5-6a4b1b69f63c"
    },
    "noteable-chatgpt": {
      "create_notebook": {
        "openai_conversation_id": "15fdea06-0170-53a2-9e81-951e809b42f9",
        "openai_ephemeral_user_id": "9e0d10e5-1908-5497-9620-9cd6cbbf6b2f",
        "openai_subdivision1_iso_code": "CO-DC"
      }
    },
    "nteract": {
      "version": "noteable@2.9.0"
    },
    "selected_hardware_size": "small"
  },
  "nbformat": 4,
  "nbformat_minor": 5
}
